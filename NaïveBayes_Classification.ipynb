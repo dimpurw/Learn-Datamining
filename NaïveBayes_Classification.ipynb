{
  "nbformat": 4,
  "nbformat_minor": 0,
  "metadata": {
    "colab": {
      "name": "modul7.ipynb",
      "provenance": [],
      "toc_visible": true,
      "authorship_tag": "ABX9TyPrTfF/UfQXzCehN93rQZBe"
    },
    "kernelspec": {
      "name": "python3",
      "display_name": "Python 3"
    },
    "language_info": {
      "name": "python"
    }
  },
  "cells": [
    {
      "cell_type": "markdown",
      "metadata": {
        "id": "hl7zltR1mvXH"
      },
      "source": [
        "# **Iris**"
      ]
    },
    {
      "cell_type": "code",
      "metadata": {
        "id": "PzGw50fbT-Mi"
      },
      "source": [
        "import pandas as pd\n",
        "import numpy as np\n",
        "from sklearn.model_selection import train_test_split\n",
        "from sklearn.naive_bayes import GaussianNB\n",
        "from sklearn import preprocessing"
      ],
      "execution_count": null,
      "outputs": []
    },
    {
      "cell_type": "code",
      "metadata": {
        "colab": {
          "base_uri": "https://localhost:8080/",
          "height": 206
        },
        "id": "pFK_aDlNVFkp",
        "outputId": "a74a2c32-05a9-412f-fc1f-d6bd11041062"
      },
      "source": [
        "df = pd.read_csv(\"iris.csv\")\n",
        "df.head()"
      ],
      "execution_count": null,
      "outputs": [
        {
          "output_type": "execute_result",
          "data": {
            "text/html": [
              "<div>\n",
              "<style scoped>\n",
              "    .dataframe tbody tr th:only-of-type {\n",
              "        vertical-align: middle;\n",
              "    }\n",
              "\n",
              "    .dataframe tbody tr th {\n",
              "        vertical-align: top;\n",
              "    }\n",
              "\n",
              "    .dataframe thead th {\n",
              "        text-align: right;\n",
              "    }\n",
              "</style>\n",
              "<table border=\"1\" class=\"dataframe\">\n",
              "  <thead>\n",
              "    <tr style=\"text-align: right;\">\n",
              "      <th></th>\n",
              "      <th>sepal.length</th>\n",
              "      <th>sepal.width</th>\n",
              "      <th>petal.length</th>\n",
              "      <th>petal.width</th>\n",
              "      <th>variety</th>\n",
              "    </tr>\n",
              "  </thead>\n",
              "  <tbody>\n",
              "    <tr>\n",
              "      <th>0</th>\n",
              "      <td>5.1</td>\n",
              "      <td>3.5</td>\n",
              "      <td>1.4</td>\n",
              "      <td>0.2</td>\n",
              "      <td>Setosa</td>\n",
              "    </tr>\n",
              "    <tr>\n",
              "      <th>1</th>\n",
              "      <td>4.9</td>\n",
              "      <td>3.0</td>\n",
              "      <td>1.4</td>\n",
              "      <td>0.2</td>\n",
              "      <td>Setosa</td>\n",
              "    </tr>\n",
              "    <tr>\n",
              "      <th>2</th>\n",
              "      <td>4.7</td>\n",
              "      <td>3.2</td>\n",
              "      <td>1.3</td>\n",
              "      <td>0.2</td>\n",
              "      <td>Setosa</td>\n",
              "    </tr>\n",
              "    <tr>\n",
              "      <th>3</th>\n",
              "      <td>4.6</td>\n",
              "      <td>3.1</td>\n",
              "      <td>1.5</td>\n",
              "      <td>0.2</td>\n",
              "      <td>Setosa</td>\n",
              "    </tr>\n",
              "    <tr>\n",
              "      <th>4</th>\n",
              "      <td>5.0</td>\n",
              "      <td>3.6</td>\n",
              "      <td>1.4</td>\n",
              "      <td>0.2</td>\n",
              "      <td>Setosa</td>\n",
              "    </tr>\n",
              "  </tbody>\n",
              "</table>\n",
              "</div>"
            ],
            "text/plain": [
              "   sepal.length  sepal.width  petal.length  petal.width variety\n",
              "0           5.1          3.5           1.4          0.2  Setosa\n",
              "1           4.9          3.0           1.4          0.2  Setosa\n",
              "2           4.7          3.2           1.3          0.2  Setosa\n",
              "3           4.6          3.1           1.5          0.2  Setosa\n",
              "4           5.0          3.6           1.4          0.2  Setosa"
            ]
          },
          "metadata": {
            "tags": []
          },
          "execution_count": 1471
        }
      ]
    },
    {
      "cell_type": "code",
      "metadata": {
        "colab": {
          "base_uri": "https://localhost:8080/",
          "height": 206
        },
        "id": "Kl2qPQO3VTlp",
        "outputId": "86eba686-5afc-4a08-ebe7-7815256fedf2"
      },
      "source": [
        "inputs = df.drop('variety',axis='columns')\n",
        "target = df.variety\n",
        "inputs.head()"
      ],
      "execution_count": null,
      "outputs": [
        {
          "output_type": "execute_result",
          "data": {
            "text/html": [
              "<div>\n",
              "<style scoped>\n",
              "    .dataframe tbody tr th:only-of-type {\n",
              "        vertical-align: middle;\n",
              "    }\n",
              "\n",
              "    .dataframe tbody tr th {\n",
              "        vertical-align: top;\n",
              "    }\n",
              "\n",
              "    .dataframe thead th {\n",
              "        text-align: right;\n",
              "    }\n",
              "</style>\n",
              "<table border=\"1\" class=\"dataframe\">\n",
              "  <thead>\n",
              "    <tr style=\"text-align: right;\">\n",
              "      <th></th>\n",
              "      <th>sepal.length</th>\n",
              "      <th>sepal.width</th>\n",
              "      <th>petal.length</th>\n",
              "      <th>petal.width</th>\n",
              "    </tr>\n",
              "  </thead>\n",
              "  <tbody>\n",
              "    <tr>\n",
              "      <th>0</th>\n",
              "      <td>5.1</td>\n",
              "      <td>3.5</td>\n",
              "      <td>1.4</td>\n",
              "      <td>0.2</td>\n",
              "    </tr>\n",
              "    <tr>\n",
              "      <th>1</th>\n",
              "      <td>4.9</td>\n",
              "      <td>3.0</td>\n",
              "      <td>1.4</td>\n",
              "      <td>0.2</td>\n",
              "    </tr>\n",
              "    <tr>\n",
              "      <th>2</th>\n",
              "      <td>4.7</td>\n",
              "      <td>3.2</td>\n",
              "      <td>1.3</td>\n",
              "      <td>0.2</td>\n",
              "    </tr>\n",
              "    <tr>\n",
              "      <th>3</th>\n",
              "      <td>4.6</td>\n",
              "      <td>3.1</td>\n",
              "      <td>1.5</td>\n",
              "      <td>0.2</td>\n",
              "    </tr>\n",
              "    <tr>\n",
              "      <th>4</th>\n",
              "      <td>5.0</td>\n",
              "      <td>3.6</td>\n",
              "      <td>1.4</td>\n",
              "      <td>0.2</td>\n",
              "    </tr>\n",
              "  </tbody>\n",
              "</table>\n",
              "</div>"
            ],
            "text/plain": [
              "   sepal.length  sepal.width  petal.length  petal.width\n",
              "0           5.1          3.5           1.4          0.2\n",
              "1           4.9          3.0           1.4          0.2\n",
              "2           4.7          3.2           1.3          0.2\n",
              "3           4.6          3.1           1.5          0.2\n",
              "4           5.0          3.6           1.4          0.2"
            ]
          },
          "metadata": {
            "tags": []
          },
          "execution_count": 1472
        }
      ]
    },
    {
      "cell_type": "code",
      "metadata": {
        "colab": {
          "base_uri": "https://localhost:8080/"
        },
        "id": "DVNscoqTVoPU",
        "outputId": "f63461da-581e-4e4e-a84c-797c66ec8462"
      },
      "source": [
        "target.head()"
      ],
      "execution_count": null,
      "outputs": [
        {
          "output_type": "execute_result",
          "data": {
            "text/plain": [
              "0    Setosa\n",
              "1    Setosa\n",
              "2    Setosa\n",
              "3    Setosa\n",
              "4    Setosa\n",
              "Name: variety, dtype: object"
            ]
          },
          "metadata": {
            "tags": []
          },
          "execution_count": 1473
        }
      ]
    },
    {
      "cell_type": "code",
      "metadata": {
        "colab": {
          "base_uri": "https://localhost:8080/"
        },
        "id": "gjOSK-DOVwS8",
        "outputId": "1710b6bb-dc97-4c95-a38a-68a8674eec18"
      },
      "source": [
        "inputs.columns[inputs.isna().any()]"
      ],
      "execution_count": null,
      "outputs": [
        {
          "output_type": "execute_result",
          "data": {
            "text/plain": [
              "Index([], dtype='object')"
            ]
          },
          "metadata": {
            "tags": []
          },
          "execution_count": 1474
        }
      ]
    },
    {
      "cell_type": "markdown",
      "metadata": {
        "id": "pLw12qFzs4sy"
      },
      "source": [
        "## **0.2**"
      ]
    },
    {
      "cell_type": "code",
      "metadata": {
        "colab": {
          "base_uri": "https://localhost:8080/"
        },
        "id": "wdUSatWTV_YQ",
        "outputId": "15ffd9bc-13d7-4f88-bd75-924934811ca9"
      },
      "source": [
        "X_train, X_test, y_train, y_test = train_test_split(inputs,target,test_size=0.2,random_state = 100)\n",
        "model = GaussianNB()\n",
        "model.fit(X_train,y_train)\n",
        "model.score(X_test,y_test)"
      ],
      "execution_count": null,
      "outputs": [
        {
          "output_type": "execute_result",
          "data": {
            "text/plain": [
              "0.9666666666666667"
            ]
          },
          "metadata": {
            "tags": []
          },
          "execution_count": 1475
        }
      ]
    },
    {
      "cell_type": "code",
      "metadata": {
        "colab": {
          "base_uri": "https://localhost:8080/",
          "height": 363
        },
        "id": "07XR9PFnWdGU",
        "outputId": "5736206e-3d71-4a07-89e0-74b134fbd07c"
      },
      "source": [
        "X_test[0:10]"
      ],
      "execution_count": null,
      "outputs": [
        {
          "output_type": "execute_result",
          "data": {
            "text/html": [
              "<div>\n",
              "<style scoped>\n",
              "    .dataframe tbody tr th:only-of-type {\n",
              "        vertical-align: middle;\n",
              "    }\n",
              "\n",
              "    .dataframe tbody tr th {\n",
              "        vertical-align: top;\n",
              "    }\n",
              "\n",
              "    .dataframe thead th {\n",
              "        text-align: right;\n",
              "    }\n",
              "</style>\n",
              "<table border=\"1\" class=\"dataframe\">\n",
              "  <thead>\n",
              "    <tr style=\"text-align: right;\">\n",
              "      <th></th>\n",
              "      <th>sepal.length</th>\n",
              "      <th>sepal.width</th>\n",
              "      <th>petal.length</th>\n",
              "      <th>petal.width</th>\n",
              "    </tr>\n",
              "  </thead>\n",
              "  <tbody>\n",
              "    <tr>\n",
              "      <th>128</th>\n",
              "      <td>6.4</td>\n",
              "      <td>2.8</td>\n",
              "      <td>5.6</td>\n",
              "      <td>2.1</td>\n",
              "    </tr>\n",
              "    <tr>\n",
              "      <th>11</th>\n",
              "      <td>4.8</td>\n",
              "      <td>3.4</td>\n",
              "      <td>1.6</td>\n",
              "      <td>0.2</td>\n",
              "    </tr>\n",
              "    <tr>\n",
              "      <th>118</th>\n",
              "      <td>7.7</td>\n",
              "      <td>2.6</td>\n",
              "      <td>6.9</td>\n",
              "      <td>2.3</td>\n",
              "    </tr>\n",
              "    <tr>\n",
              "      <th>15</th>\n",
              "      <td>5.7</td>\n",
              "      <td>4.4</td>\n",
              "      <td>1.5</td>\n",
              "      <td>0.4</td>\n",
              "    </tr>\n",
              "    <tr>\n",
              "      <th>123</th>\n",
              "      <td>6.3</td>\n",
              "      <td>2.7</td>\n",
              "      <td>4.9</td>\n",
              "      <td>1.8</td>\n",
              "    </tr>\n",
              "    <tr>\n",
              "      <th>135</th>\n",
              "      <td>7.7</td>\n",
              "      <td>3.0</td>\n",
              "      <td>6.1</td>\n",
              "      <td>2.3</td>\n",
              "    </tr>\n",
              "    <tr>\n",
              "      <th>32</th>\n",
              "      <td>5.2</td>\n",
              "      <td>4.1</td>\n",
              "      <td>1.5</td>\n",
              "      <td>0.1</td>\n",
              "    </tr>\n",
              "    <tr>\n",
              "      <th>1</th>\n",
              "      <td>4.9</td>\n",
              "      <td>3.0</td>\n",
              "      <td>1.4</td>\n",
              "      <td>0.2</td>\n",
              "    </tr>\n",
              "    <tr>\n",
              "      <th>116</th>\n",
              "      <td>6.5</td>\n",
              "      <td>3.0</td>\n",
              "      <td>5.5</td>\n",
              "      <td>1.8</td>\n",
              "    </tr>\n",
              "    <tr>\n",
              "      <th>45</th>\n",
              "      <td>4.8</td>\n",
              "      <td>3.0</td>\n",
              "      <td>1.4</td>\n",
              "      <td>0.3</td>\n",
              "    </tr>\n",
              "  </tbody>\n",
              "</table>\n",
              "</div>"
            ],
            "text/plain": [
              "     sepal.length  sepal.width  petal.length  petal.width\n",
              "128           6.4          2.8           5.6          2.1\n",
              "11            4.8          3.4           1.6          0.2\n",
              "118           7.7          2.6           6.9          2.3\n",
              "15            5.7          4.4           1.5          0.4\n",
              "123           6.3          2.7           4.9          1.8\n",
              "135           7.7          3.0           6.1          2.3\n",
              "32            5.2          4.1           1.5          0.1\n",
              "1             4.9          3.0           1.4          0.2\n",
              "116           6.5          3.0           5.5          1.8\n",
              "45            4.8          3.0           1.4          0.3"
            ]
          },
          "metadata": {
            "tags": []
          },
          "execution_count": 1476
        }
      ]
    },
    {
      "cell_type": "code",
      "metadata": {
        "colab": {
          "base_uri": "https://localhost:8080/"
        },
        "id": "OSjCgIvIWom7",
        "outputId": "499d288f-1362-440c-c666-5d60ab3cf1d0"
      },
      "source": [
        "y_test[0:10]"
      ],
      "execution_count": null,
      "outputs": [
        {
          "output_type": "execute_result",
          "data": {
            "text/plain": [
              "128    Virginica\n",
              "11        Setosa\n",
              "118    Virginica\n",
              "15        Setosa\n",
              "123    Virginica\n",
              "135    Virginica\n",
              "32        Setosa\n",
              "1         Setosa\n",
              "116    Virginica\n",
              "45        Setosa\n",
              "Name: variety, dtype: object"
            ]
          },
          "metadata": {
            "tags": []
          },
          "execution_count": 1477
        }
      ]
    },
    {
      "cell_type": "code",
      "metadata": {
        "colab": {
          "base_uri": "https://localhost:8080/"
        },
        "id": "zmFjcSPVujrP",
        "outputId": "d8fe67a5-aad6-4ecf-f297-661f0af38f27"
      },
      "source": [
        "model.predict(X_test[0:10])"
      ],
      "execution_count": null,
      "outputs": [
        {
          "output_type": "execute_result",
          "data": {
            "text/plain": [
              "array(['Virginica', 'Setosa', 'Virginica', 'Setosa', 'Virginica',\n",
              "       'Virginica', 'Setosa', 'Setosa', 'Virginica', 'Setosa'],\n",
              "      dtype='<U10')"
            ]
          },
          "metadata": {
            "tags": []
          },
          "execution_count": 1478
        }
      ]
    },
    {
      "cell_type": "code",
      "metadata": {
        "id": "wO_fCw60uklC",
        "colab": {
          "base_uri": "https://localhost:8080/"
        },
        "outputId": "a1c0271c-4d66-43ec-dac9-72e36b60075c"
      },
      "source": [
        "model.predict_proba(X_test[0:10])"
      ],
      "execution_count": null,
      "outputs": [
        {
          "output_type": "execute_result",
          "data": {
            "text/plain": [
              "array([[1.52314757e-181, 1.00459070e-005, 9.99989954e-001],\n",
              "       [1.00000000e+000, 1.67343333e-017, 2.53978784e-024],\n",
              "       [6.62123417e-284, 1.14604320e-012, 1.00000000e+000],\n",
              "       [1.00000000e+000, 7.22917353e-017, 1.74453536e-022],\n",
              "       [1.12851495e-126, 1.24843238e-001, 8.75156762e-001],\n",
              "       [1.03706066e-232, 9.68646541e-011, 1.00000000e+000],\n",
              "       [1.00000000e+000, 7.18542857e-021, 3.60302120e-026],\n",
              "       [1.00000000e+000, 1.56900239e-017, 5.26042486e-025],\n",
              "       [2.00081094e-156, 1.97725767e-003, 9.98022742e-001],\n",
              "       [1.00000000e+000, 2.50923853e-016, 3.44025726e-024]])"
            ]
          },
          "metadata": {
            "tags": []
          },
          "execution_count": 1479
        }
      ]
    },
    {
      "cell_type": "markdown",
      "metadata": {
        "id": "f7tb13CSuW5l"
      },
      "source": [
        "## **0.3**"
      ]
    },
    {
      "cell_type": "code",
      "metadata": {
        "colab": {
          "base_uri": "https://localhost:8080/"
        },
        "id": "XI0nU4fiua33",
        "outputId": "4255b2e7-26d3-4909-b302-ad6e35b72fd1"
      },
      "source": [
        "X_train, X_test, y_train, y_test = train_test_split(inputs,target,test_size=0.3,random_state = 100)\n",
        "model = GaussianNB()\n",
        "model.fit(X_train,y_train)\n",
        "model.score(X_test,y_test)"
      ],
      "execution_count": null,
      "outputs": [
        {
          "output_type": "execute_result",
          "data": {
            "text/plain": [
              "0.9555555555555556"
            ]
          },
          "metadata": {
            "tags": []
          },
          "execution_count": 1480
        }
      ]
    },
    {
      "cell_type": "markdown",
      "metadata": {
        "id": "Wq5DFFnouwu9"
      },
      "source": [
        "## **0.4**"
      ]
    },
    {
      "cell_type": "code",
      "metadata": {
        "colab": {
          "base_uri": "https://localhost:8080/"
        },
        "id": "Nn-Ba1jou2z6",
        "outputId": "5debacca-67e4-4781-db16-bbe20377a9b0"
      },
      "source": [
        "X_train, X_test, y_train, y_test = train_test_split(inputs,target,test_size=0.4,random_state = 100)\n",
        "model = GaussianNB()\n",
        "model.fit(X_train,y_train)\n",
        "model.score(X_test,y_test)"
      ],
      "execution_count": null,
      "outputs": [
        {
          "output_type": "execute_result",
          "data": {
            "text/plain": [
              "0.9666666666666667"
            ]
          },
          "metadata": {
            "tags": []
          },
          "execution_count": 1481
        }
      ]
    },
    {
      "cell_type": "markdown",
      "metadata": {
        "id": "4VQyvOb5wIB-"
      },
      "source": [
        "## **Sepal Length**"
      ]
    },
    {
      "cell_type": "code",
      "metadata": {
        "colab": {
          "base_uri": "https://localhost:8080/"
        },
        "id": "vaIt_PCpwOJ9",
        "outputId": "732f6b1b-b932-4350-c5c3-737899a2f2da"
      },
      "source": [
        "sepal_length = inputs.copy()\n",
        "\n",
        "sepal_length.drop(['sepal.width','petal.width','petal.length'],axis=\"columns\", inplace=True)\n",
        "sepal_length\n",
        "\n",
        "def accuracy(inputs, testing):\n",
        "  X_train, X_test, y_train, y_test = train_test_split(inputs,target,test_size=testing, random_state = 100)\n",
        "  model = GaussianNB()\n",
        "  model.fit(X_train,y_train)\n",
        "  accuracy_score = model.score(X_test,y_test)\n",
        "  return accuracy_score\n",
        "\n",
        "print(\"test size 0.2:\", accuracy(sepal_length, 0.2))\n",
        "print(\"test size 0.3:\", accuracy(sepal_length, 0.3))\n",
        "print(\"test size 0.4:\", accuracy(sepal_length, 0.4))"
      ],
      "execution_count": null,
      "outputs": [
        {
          "output_type": "stream",
          "text": [
            "test size 0.2: 0.8\n",
            "test size 0.3: 0.7777777777777778\n",
            "test size 0.4: 0.7833333333333333\n"
          ],
          "name": "stdout"
        }
      ]
    },
    {
      "cell_type": "markdown",
      "metadata": {
        "id": "NLDUWITzMX_g"
      },
      "source": [
        "## **Sepal Width**"
      ]
    },
    {
      "cell_type": "code",
      "metadata": {
        "colab": {
          "base_uri": "https://localhost:8080/"
        },
        "id": "QkxXm-voLUiB",
        "outputId": "49113d4a-cd2d-4dfc-bec0-e132f199cafc"
      },
      "source": [
        "sepal_width = inputs.copy()\n",
        "\n",
        "sepal_width.drop(['sepal.length','petal.length','petal.width'],axis=\"columns\", inplace=True)\n",
        "sepal_width\n",
        "\n",
        "def accuracy(inputs, testing):\n",
        "  X_train, X_test, y_train, y_test = train_test_split(inputs,target,test_size=testing, random_state = 100)\n",
        "  model = GaussianNB()\n",
        "  model.fit(X_train,y_train)\n",
        "  accuracy_score = model.score(X_test,y_test)\n",
        "  return accuracy_score\n",
        "\n",
        "print(\"test size 0.2:\", accuracy(sepal_width, 0.2))\n",
        "print(\"test size 0.3:\", accuracy(sepal_width, 0.3))\n",
        "print(\"test size 0.4:\", accuracy(sepal_width, 0.4))"
      ],
      "execution_count": null,
      "outputs": [
        {
          "output_type": "stream",
          "text": [
            "test size 0.2: 0.5\n",
            "test size 0.3: 0.5777777777777777\n",
            "test size 0.4: 0.5333333333333333\n"
          ],
          "name": "stdout"
        }
      ]
    },
    {
      "cell_type": "markdown",
      "metadata": {
        "id": "nCwP7K7UMcn1"
      },
      "source": [
        "## **Petal Length**"
      ]
    },
    {
      "cell_type": "code",
      "metadata": {
        "colab": {
          "base_uri": "https://localhost:8080/"
        },
        "id": "eSzpInfOLc6c",
        "outputId": "7d0f72e8-a3b7-46b8-ebce-067d28df6f61"
      },
      "source": [
        "petal_length = inputs.copy()\n",
        "\n",
        "petal_length.drop(['sepal.length','sepal.width','petal.width'],axis=\"columns\", inplace=True)\n",
        "petal_length\n",
        "\n",
        "def accuracy(inputs, testing):\n",
        "  X_train, X_test, y_train, y_test = train_test_split(inputs,target,test_size=testing, random_state = 100)\n",
        "  \n",
        "  #Memasukkan isi model ke dalam fit X_train, y_train untuk menentukan pola model datanya\n",
        "  model = GaussianNB()\n",
        "  model.fit(X_train,y_train)\n",
        "  #Memasukkan score kebenaran dengan perbandingan parameter X_text dan y_test\n",
        "  accuracy_score = model.score(X_test,y_test)\n",
        "  return accuracy_score\n",
        "\n",
        "print(\"test size 0.2:\", accuracy(petal_length, 0.2))\n",
        "print(\"test size 0.3:\", accuracy(petal_length, 0.3))\n",
        "print(\"test size 0.4:\", accuracy(petal_length, 0.4))"
      ],
      "execution_count": null,
      "outputs": [
        {
          "output_type": "stream",
          "text": [
            "test size 0.2: 0.9333333333333333\n",
            "test size 0.3: 0.9555555555555556\n",
            "test size 0.4: 0.95\n"
          ],
          "name": "stdout"
        }
      ]
    },
    {
      "cell_type": "markdown",
      "metadata": {
        "id": "A1RHeGcaMg_s"
      },
      "source": [
        "## **Petal Width  Sepal Length**"
      ]
    },
    {
      "cell_type": "code",
      "metadata": {
        "colab": {
          "base_uri": "https://localhost:8080/"
        },
        "id": "xi1EU4FjMlDF",
        "outputId": "67e4fe97-9ac0-41c4-993f-c070f80d1f11"
      },
      "source": [
        "#Kombinasi dari attribut (petal width)\n",
        "petal_width = inputs.copy()\n",
        "\n",
        "petal_width.drop(['sepal.width','petal.length'],axis=\"columns\", inplace=True)\n",
        "petal_width\n",
        "\n",
        "def accuracy(inputs, testing):\n",
        "  X_train, X_test, y_train, y_test = train_test_split(inputs,target,test_size=testing, random_state = 100)\n",
        "  \n",
        "  #Memasukkan isi model ke dalam fit X_train, y_train untuk menentukan pola model datanya\n",
        "  model = GaussianNB()\n",
        "  model.fit(X_train,y_train)\n",
        "  #Memasukkan score kebenaran dengan perbandingan parameter X_text dan y_test\n",
        "  accuracy_score = model.score(X_test,y_test)\n",
        "  return accuracy_score\n",
        "\n",
        "print(\"test size 0.2:\", accuracy(petal_width, 0.2))\n",
        "print(\"test size 0.3:\", accuracy(petal_width, 0.3))\n",
        "print(\"test size 0.4:\", accuracy(petal_width, 0.4))"
      ],
      "execution_count": null,
      "outputs": [
        {
          "output_type": "stream",
          "text": [
            "test size 0.2: 0.9666666666666667\n",
            "test size 0.3: 0.9555555555555556\n",
            "test size 0.4: 0.9666666666666667\n"
          ],
          "name": "stdout"
        }
      ]
    },
    {
      "cell_type": "markdown",
      "metadata": {
        "id": "8u0AIE5gny7j"
      },
      "source": [
        "# **Adult**"
      ]
    },
    {
      "cell_type": "code",
      "metadata": {
        "colab": {
          "base_uri": "https://localhost:8080/",
          "height": 348
        },
        "id": "X-XlIRHOn2mh",
        "outputId": "cfd57d50-da10-4300-e411-e3ec596110c3"
      },
      "source": [
        "df = pd.read_csv(\"adult.csv\")\n",
        "df.head()"
      ],
      "execution_count": null,
      "outputs": [
        {
          "output_type": "execute_result",
          "data": {
            "text/html": [
              "<div>\n",
              "<style scoped>\n",
              "    .dataframe tbody tr th:only-of-type {\n",
              "        vertical-align: middle;\n",
              "    }\n",
              "\n",
              "    .dataframe tbody tr th {\n",
              "        vertical-align: top;\n",
              "    }\n",
              "\n",
              "    .dataframe thead th {\n",
              "        text-align: right;\n",
              "    }\n",
              "</style>\n",
              "<table border=\"1\" class=\"dataframe\">\n",
              "  <thead>\n",
              "    <tr style=\"text-align: right;\">\n",
              "      <th></th>\n",
              "      <th>age</th>\n",
              "      <th>workclass</th>\n",
              "      <th>fnlwgt</th>\n",
              "      <th>education</th>\n",
              "      <th>educational-num</th>\n",
              "      <th>marital_status</th>\n",
              "      <th>occupation</th>\n",
              "      <th>relationship</th>\n",
              "      <th>race</th>\n",
              "      <th>gender</th>\n",
              "      <th>capital-gain</th>\n",
              "      <th>capital-loss</th>\n",
              "      <th>hours-per-week</th>\n",
              "      <th>native_country</th>\n",
              "      <th>income</th>\n",
              "    </tr>\n",
              "  </thead>\n",
              "  <tbody>\n",
              "    <tr>\n",
              "      <th>0</th>\n",
              "      <td>25</td>\n",
              "      <td>Private</td>\n",
              "      <td>226802</td>\n",
              "      <td>11th</td>\n",
              "      <td>7</td>\n",
              "      <td>Never-married</td>\n",
              "      <td>Machine-op-inspct</td>\n",
              "      <td>Own-child</td>\n",
              "      <td>Black</td>\n",
              "      <td>Male</td>\n",
              "      <td>0</td>\n",
              "      <td>0</td>\n",
              "      <td>40</td>\n",
              "      <td>United-States</td>\n",
              "      <td>&lt;=50K</td>\n",
              "    </tr>\n",
              "    <tr>\n",
              "      <th>1</th>\n",
              "      <td>38</td>\n",
              "      <td>Private</td>\n",
              "      <td>89814</td>\n",
              "      <td>HS-grad</td>\n",
              "      <td>9</td>\n",
              "      <td>Married-civ-spouse</td>\n",
              "      <td>Farming-fishing</td>\n",
              "      <td>Husband</td>\n",
              "      <td>White</td>\n",
              "      <td>Male</td>\n",
              "      <td>0</td>\n",
              "      <td>0</td>\n",
              "      <td>50</td>\n",
              "      <td>United-States</td>\n",
              "      <td>&lt;=50K</td>\n",
              "    </tr>\n",
              "    <tr>\n",
              "      <th>2</th>\n",
              "      <td>28</td>\n",
              "      <td>Local-gov</td>\n",
              "      <td>336951</td>\n",
              "      <td>Assoc-acdm</td>\n",
              "      <td>12</td>\n",
              "      <td>Married-civ-spouse</td>\n",
              "      <td>Protective-serv</td>\n",
              "      <td>Husband</td>\n",
              "      <td>White</td>\n",
              "      <td>Male</td>\n",
              "      <td>0</td>\n",
              "      <td>0</td>\n",
              "      <td>40</td>\n",
              "      <td>United-States</td>\n",
              "      <td>&gt;50K</td>\n",
              "    </tr>\n",
              "    <tr>\n",
              "      <th>3</th>\n",
              "      <td>44</td>\n",
              "      <td>Private</td>\n",
              "      <td>160323</td>\n",
              "      <td>Some-college</td>\n",
              "      <td>10</td>\n",
              "      <td>Married-civ-spouse</td>\n",
              "      <td>Machine-op-inspct</td>\n",
              "      <td>Husband</td>\n",
              "      <td>Black</td>\n",
              "      <td>Male</td>\n",
              "      <td>7688</td>\n",
              "      <td>0</td>\n",
              "      <td>40</td>\n",
              "      <td>United-States</td>\n",
              "      <td>&gt;50K</td>\n",
              "    </tr>\n",
              "    <tr>\n",
              "      <th>4</th>\n",
              "      <td>18</td>\n",
              "      <td>?</td>\n",
              "      <td>103497</td>\n",
              "      <td>Some-college</td>\n",
              "      <td>10</td>\n",
              "      <td>Never-married</td>\n",
              "      <td>?</td>\n",
              "      <td>Own-child</td>\n",
              "      <td>White</td>\n",
              "      <td>Female</td>\n",
              "      <td>0</td>\n",
              "      <td>0</td>\n",
              "      <td>30</td>\n",
              "      <td>United-States</td>\n",
              "      <td>&lt;=50K</td>\n",
              "    </tr>\n",
              "  </tbody>\n",
              "</table>\n",
              "</div>"
            ],
            "text/plain": [
              "   age  workclass  fnlwgt  ... hours-per-week  native_country income\n",
              "0   25    Private  226802  ...             40   United-States  <=50K\n",
              "1   38    Private   89814  ...             50   United-States  <=50K\n",
              "2   28  Local-gov  336951  ...             40   United-States   >50K\n",
              "3   44    Private  160323  ...             40   United-States   >50K\n",
              "4   18          ?  103497  ...             30   United-States  <=50K\n",
              "\n",
              "[5 rows x 15 columns]"
            ]
          },
          "metadata": {
            "tags": []
          },
          "execution_count": 1486
        }
      ]
    },
    {
      "cell_type": "code",
      "metadata": {
        "colab": {
          "base_uri": "https://localhost:8080/",
          "height": 261
        },
        "id": "JSRnLX69MSoS",
        "outputId": "7396c58b-b339-407a-b949-0d4a0480e4e8"
      },
      "source": [
        "inputs = df.drop('income',axis='columns')\n",
        "inputs['workclass'] = preprocessing.LabelEncoder().fit_transform(inputs.workclass)\n",
        "inputs['fnlwgt'] = preprocessing.LabelEncoder().fit_transform(inputs.fnlwgt)\n",
        "inputs['education'] = preprocessing.LabelEncoder().fit_transform(inputs.education)\n",
        "inputs['marital_status'] = preprocessing.LabelEncoder().fit_transform(inputs.marital_status)\n",
        "inputs['occupation'] = preprocessing.LabelEncoder().fit_transform(inputs.occupation)\n",
        "inputs['relationship'] = preprocessing.LabelEncoder().fit_transform(inputs.relationship)\n",
        "inputs['race'] = preprocessing.LabelEncoder().fit_transform(inputs.race)\n",
        "inputs['gender'] = preprocessing.LabelEncoder().fit_transform(inputs.gender)\n",
        "inputs['native_country'] = preprocessing.LabelEncoder().fit_transform(inputs.native_country)\n",
        "target = df.income\n",
        "inputs.head()"
      ],
      "execution_count": null,
      "outputs": [
        {
          "output_type": "execute_result",
          "data": {
            "text/html": [
              "<div>\n",
              "<style scoped>\n",
              "    .dataframe tbody tr th:only-of-type {\n",
              "        vertical-align: middle;\n",
              "    }\n",
              "\n",
              "    .dataframe tbody tr th {\n",
              "        vertical-align: top;\n",
              "    }\n",
              "\n",
              "    .dataframe thead th {\n",
              "        text-align: right;\n",
              "    }\n",
              "</style>\n",
              "<table border=\"1\" class=\"dataframe\">\n",
              "  <thead>\n",
              "    <tr style=\"text-align: right;\">\n",
              "      <th></th>\n",
              "      <th>age</th>\n",
              "      <th>workclass</th>\n",
              "      <th>fnlwgt</th>\n",
              "      <th>education</th>\n",
              "      <th>educational-num</th>\n",
              "      <th>marital_status</th>\n",
              "      <th>occupation</th>\n",
              "      <th>relationship</th>\n",
              "      <th>race</th>\n",
              "      <th>gender</th>\n",
              "      <th>capital-gain</th>\n",
              "      <th>capital-loss</th>\n",
              "      <th>hours-per-week</th>\n",
              "      <th>native_country</th>\n",
              "    </tr>\n",
              "  </thead>\n",
              "  <tbody>\n",
              "    <tr>\n",
              "      <th>0</th>\n",
              "      <td>25</td>\n",
              "      <td>4</td>\n",
              "      <td>19329</td>\n",
              "      <td>1</td>\n",
              "      <td>7</td>\n",
              "      <td>4</td>\n",
              "      <td>7</td>\n",
              "      <td>3</td>\n",
              "      <td>2</td>\n",
              "      <td>1</td>\n",
              "      <td>0</td>\n",
              "      <td>0</td>\n",
              "      <td>40</td>\n",
              "      <td>39</td>\n",
              "    </tr>\n",
              "    <tr>\n",
              "      <th>1</th>\n",
              "      <td>38</td>\n",
              "      <td>4</td>\n",
              "      <td>4212</td>\n",
              "      <td>11</td>\n",
              "      <td>9</td>\n",
              "      <td>2</td>\n",
              "      <td>5</td>\n",
              "      <td>0</td>\n",
              "      <td>4</td>\n",
              "      <td>1</td>\n",
              "      <td>0</td>\n",
              "      <td>0</td>\n",
              "      <td>50</td>\n",
              "      <td>39</td>\n",
              "    </tr>\n",
              "    <tr>\n",
              "      <th>2</th>\n",
              "      <td>28</td>\n",
              "      <td>2</td>\n",
              "      <td>25340</td>\n",
              "      <td>7</td>\n",
              "      <td>12</td>\n",
              "      <td>2</td>\n",
              "      <td>11</td>\n",
              "      <td>0</td>\n",
              "      <td>4</td>\n",
              "      <td>1</td>\n",
              "      <td>0</td>\n",
              "      <td>0</td>\n",
              "      <td>40</td>\n",
              "      <td>39</td>\n",
              "    </tr>\n",
              "    <tr>\n",
              "      <th>3</th>\n",
              "      <td>44</td>\n",
              "      <td>4</td>\n",
              "      <td>11201</td>\n",
              "      <td>15</td>\n",
              "      <td>10</td>\n",
              "      <td>2</td>\n",
              "      <td>7</td>\n",
              "      <td>0</td>\n",
              "      <td>2</td>\n",
              "      <td>1</td>\n",
              "      <td>7688</td>\n",
              "      <td>0</td>\n",
              "      <td>40</td>\n",
              "      <td>39</td>\n",
              "    </tr>\n",
              "    <tr>\n",
              "      <th>4</th>\n",
              "      <td>18</td>\n",
              "      <td>0</td>\n",
              "      <td>5411</td>\n",
              "      <td>15</td>\n",
              "      <td>10</td>\n",
              "      <td>4</td>\n",
              "      <td>0</td>\n",
              "      <td>3</td>\n",
              "      <td>4</td>\n",
              "      <td>0</td>\n",
              "      <td>0</td>\n",
              "      <td>0</td>\n",
              "      <td>30</td>\n",
              "      <td>39</td>\n",
              "    </tr>\n",
              "  </tbody>\n",
              "</table>\n",
              "</div>"
            ],
            "text/plain": [
              "   age  workclass  fnlwgt  ...  capital-loss  hours-per-week  native_country\n",
              "0   25          4   19329  ...             0              40              39\n",
              "1   38          4    4212  ...             0              50              39\n",
              "2   28          2   25340  ...             0              40              39\n",
              "3   44          4   11201  ...             0              40              39\n",
              "4   18          0    5411  ...             0              30              39\n",
              "\n",
              "[5 rows x 14 columns]"
            ]
          },
          "metadata": {
            "tags": []
          },
          "execution_count": 1487
        }
      ]
    },
    {
      "cell_type": "code",
      "metadata": {
        "colab": {
          "base_uri": "https://localhost:8080/"
        },
        "id": "Yx6P2suWUwC8",
        "outputId": "7c7c2a1b-9dc1-4db6-c7af-628b5928a6d3"
      },
      "source": [
        "inputs.columns[inputs.isna().any()]"
      ],
      "execution_count": null,
      "outputs": [
        {
          "output_type": "execute_result",
          "data": {
            "text/plain": [
              "Index([], dtype='object')"
            ]
          },
          "metadata": {
            "tags": []
          },
          "execution_count": 1488
        }
      ]
    },
    {
      "cell_type": "markdown",
      "metadata": {
        "id": "hiK9w9lAvOS2"
      },
      "source": [
        "## **0.2**"
      ]
    },
    {
      "cell_type": "code",
      "metadata": {
        "colab": {
          "base_uri": "https://localhost:8080/"
        },
        "id": "prUY9wRBsGka",
        "outputId": "fd8f0d07-6a21-4439-f74d-3577b21a44e7"
      },
      "source": [
        "X_train, X_test, y_train, y_test = train_test_split(inputs,target,test_size=0.2,random_state = 100)\n",
        "model = GaussianNB()\n",
        "model.fit(X_train,y_train)\n",
        "model.score(X_test,y_test)"
      ],
      "execution_count": null,
      "outputs": [
        {
          "output_type": "execute_result",
          "data": {
            "text/plain": [
              "0.8047906643464019"
            ]
          },
          "metadata": {
            "tags": []
          },
          "execution_count": 1489
        }
      ]
    },
    {
      "cell_type": "code",
      "metadata": {
        "colab": {
          "base_uri": "https://localhost:8080/",
          "height": 418
        },
        "id": "daNFjtXmosz9",
        "outputId": "a0ccb51b-c624-44d5-d1c3-9a84a657f843"
      },
      "source": [
        "X_test[0:10]"
      ],
      "execution_count": null,
      "outputs": [
        {
          "output_type": "execute_result",
          "data": {
            "text/html": [
              "<div>\n",
              "<style scoped>\n",
              "    .dataframe tbody tr th:only-of-type {\n",
              "        vertical-align: middle;\n",
              "    }\n",
              "\n",
              "    .dataframe tbody tr th {\n",
              "        vertical-align: top;\n",
              "    }\n",
              "\n",
              "    .dataframe thead th {\n",
              "        text-align: right;\n",
              "    }\n",
              "</style>\n",
              "<table border=\"1\" class=\"dataframe\">\n",
              "  <thead>\n",
              "    <tr style=\"text-align: right;\">\n",
              "      <th></th>\n",
              "      <th>age</th>\n",
              "      <th>workclass</th>\n",
              "      <th>fnlwgt</th>\n",
              "      <th>education</th>\n",
              "      <th>educational-num</th>\n",
              "      <th>marital_status</th>\n",
              "      <th>occupation</th>\n",
              "      <th>relationship</th>\n",
              "      <th>race</th>\n",
              "      <th>gender</th>\n",
              "      <th>capital-gain</th>\n",
              "      <th>capital-loss</th>\n",
              "      <th>hours-per-week</th>\n",
              "      <th>native_country</th>\n",
              "    </tr>\n",
              "  </thead>\n",
              "  <tbody>\n",
              "    <tr>\n",
              "      <th>12393</th>\n",
              "      <td>37</td>\n",
              "      <td>4</td>\n",
              "      <td>6176</td>\n",
              "      <td>14</td>\n",
              "      <td>15</td>\n",
              "      <td>2</td>\n",
              "      <td>8</td>\n",
              "      <td>5</td>\n",
              "      <td>4</td>\n",
              "      <td>0</td>\n",
              "      <td>0</td>\n",
              "      <td>0</td>\n",
              "      <td>60</td>\n",
              "      <td>39</td>\n",
              "    </tr>\n",
              "    <tr>\n",
              "      <th>48701</th>\n",
              "      <td>23</td>\n",
              "      <td>4</td>\n",
              "      <td>1686</td>\n",
              "      <td>9</td>\n",
              "      <td>13</td>\n",
              "      <td>4</td>\n",
              "      <td>4</td>\n",
              "      <td>1</td>\n",
              "      <td>4</td>\n",
              "      <td>0</td>\n",
              "      <td>0</td>\n",
              "      <td>0</td>\n",
              "      <td>50</td>\n",
              "      <td>39</td>\n",
              "    </tr>\n",
              "    <tr>\n",
              "      <th>17918</th>\n",
              "      <td>28</td>\n",
              "      <td>4</td>\n",
              "      <td>4204</td>\n",
              "      <td>11</td>\n",
              "      <td>9</td>\n",
              "      <td>4</td>\n",
              "      <td>12</td>\n",
              "      <td>1</td>\n",
              "      <td>4</td>\n",
              "      <td>0</td>\n",
              "      <td>2202</td>\n",
              "      <td>0</td>\n",
              "      <td>48</td>\n",
              "      <td>39</td>\n",
              "    </tr>\n",
              "    <tr>\n",
              "      <th>11352</th>\n",
              "      <td>30</td>\n",
              "      <td>4</td>\n",
              "      <td>25909</td>\n",
              "      <td>6</td>\n",
              "      <td>5</td>\n",
              "      <td>0</td>\n",
              "      <td>8</td>\n",
              "      <td>4</td>\n",
              "      <td>4</td>\n",
              "      <td>0</td>\n",
              "      <td>0</td>\n",
              "      <td>0</td>\n",
              "      <td>38</td>\n",
              "      <td>39</td>\n",
              "    </tr>\n",
              "    <tr>\n",
              "      <th>36198</th>\n",
              "      <td>31</td>\n",
              "      <td>4</td>\n",
              "      <td>11637</td>\n",
              "      <td>0</td>\n",
              "      <td>6</td>\n",
              "      <td>2</td>\n",
              "      <td>14</td>\n",
              "      <td>0</td>\n",
              "      <td>4</td>\n",
              "      <td>1</td>\n",
              "      <td>0</td>\n",
              "      <td>0</td>\n",
              "      <td>40</td>\n",
              "      <td>39</td>\n",
              "    </tr>\n",
              "    <tr>\n",
              "      <th>14102</th>\n",
              "      <td>18</td>\n",
              "      <td>4</td>\n",
              "      <td>17961</td>\n",
              "      <td>2</td>\n",
              "      <td>8</td>\n",
              "      <td>4</td>\n",
              "      <td>6</td>\n",
              "      <td>3</td>\n",
              "      <td>4</td>\n",
              "      <td>1</td>\n",
              "      <td>0</td>\n",
              "      <td>0</td>\n",
              "      <td>20</td>\n",
              "      <td>39</td>\n",
              "    </tr>\n",
              "    <tr>\n",
              "      <th>41731</th>\n",
              "      <td>28</td>\n",
              "      <td>4</td>\n",
              "      <td>27765</td>\n",
              "      <td>0</td>\n",
              "      <td>6</td>\n",
              "      <td>4</td>\n",
              "      <td>6</td>\n",
              "      <td>1</td>\n",
              "      <td>4</td>\n",
              "      <td>1</td>\n",
              "      <td>0</td>\n",
              "      <td>0</td>\n",
              "      <td>40</td>\n",
              "      <td>39</td>\n",
              "    </tr>\n",
              "    <tr>\n",
              "      <th>23995</th>\n",
              "      <td>47</td>\n",
              "      <td>2</td>\n",
              "      <td>7646</td>\n",
              "      <td>12</td>\n",
              "      <td>14</td>\n",
              "      <td>2</td>\n",
              "      <td>10</td>\n",
              "      <td>0</td>\n",
              "      <td>4</td>\n",
              "      <td>1</td>\n",
              "      <td>7688</td>\n",
              "      <td>0</td>\n",
              "      <td>60</td>\n",
              "      <td>39</td>\n",
              "    </tr>\n",
              "    <tr>\n",
              "      <th>36248</th>\n",
              "      <td>37</td>\n",
              "      <td>4</td>\n",
              "      <td>10296</td>\n",
              "      <td>5</td>\n",
              "      <td>4</td>\n",
              "      <td>2</td>\n",
              "      <td>3</td>\n",
              "      <td>0</td>\n",
              "      <td>4</td>\n",
              "      <td>1</td>\n",
              "      <td>0</td>\n",
              "      <td>0</td>\n",
              "      <td>40</td>\n",
              "      <td>39</td>\n",
              "    </tr>\n",
              "    <tr>\n",
              "      <th>12244</th>\n",
              "      <td>76</td>\n",
              "      <td>4</td>\n",
              "      <td>3746</td>\n",
              "      <td>5</td>\n",
              "      <td>4</td>\n",
              "      <td>2</td>\n",
              "      <td>8</td>\n",
              "      <td>0</td>\n",
              "      <td>4</td>\n",
              "      <td>1</td>\n",
              "      <td>0</td>\n",
              "      <td>0</td>\n",
              "      <td>45</td>\n",
              "      <td>39</td>\n",
              "    </tr>\n",
              "  </tbody>\n",
              "</table>\n",
              "</div>"
            ],
            "text/plain": [
              "       age  workclass  fnlwgt  ...  capital-loss  hours-per-week  native_country\n",
              "12393   37          4    6176  ...             0              60              39\n",
              "48701   23          4    1686  ...             0              50              39\n",
              "17918   28          4    4204  ...             0              48              39\n",
              "11352   30          4   25909  ...             0              38              39\n",
              "36198   31          4   11637  ...             0              40              39\n",
              "14102   18          4   17961  ...             0              20              39\n",
              "41731   28          4   27765  ...             0              40              39\n",
              "23995   47          2    7646  ...             0              60              39\n",
              "36248   37          4   10296  ...             0              40              39\n",
              "12244   76          4    3746  ...             0              45              39\n",
              "\n",
              "[10 rows x 14 columns]"
            ]
          },
          "metadata": {
            "tags": []
          },
          "execution_count": 1490
        }
      ]
    },
    {
      "cell_type": "code",
      "metadata": {
        "colab": {
          "base_uri": "https://localhost:8080/"
        },
        "id": "Xt7_NWjgo8wb",
        "outputId": "df501f2e-8cff-47a6-f665-8bb3c4b0d2b9"
      },
      "source": [
        "y_test[0:10]"
      ],
      "execution_count": null,
      "outputs": [
        {
          "output_type": "execute_result",
          "data": {
            "text/plain": [
              "12393     >50K\n",
              "48701    <=50K\n",
              "17918    <=50K\n",
              "11352    <=50K\n",
              "36198    <=50K\n",
              "14102    <=50K\n",
              "41731    <=50K\n",
              "23995     >50K\n",
              "36248    <=50K\n",
              "12244    <=50K\n",
              "Name: income, dtype: object"
            ]
          },
          "metadata": {
            "tags": []
          },
          "execution_count": 1491
        }
      ]
    },
    {
      "cell_type": "code",
      "metadata": {
        "colab": {
          "base_uri": "https://localhost:8080/"
        },
        "id": "HlwCXOdMpT2F",
        "outputId": "cd472391-5051-47d3-c9e0-4b523e481a58"
      },
      "source": [
        "model.predict(X_test[0:10])"
      ],
      "execution_count": null,
      "outputs": [
        {
          "output_type": "execute_result",
          "data": {
            "text/plain": [
              "array(['<=50K', '<=50K', '<=50K', '<=50K', '<=50K', '<=50K', '<=50K',\n",
              "       '>50K', '<=50K', '<=50K'], dtype='<U5')"
            ]
          },
          "metadata": {
            "tags": []
          },
          "execution_count": 1492
        }
      ]
    },
    {
      "cell_type": "code",
      "metadata": {
        "colab": {
          "base_uri": "https://localhost:8080/"
        },
        "id": "-ufeLkwvty2g",
        "outputId": "958b57d2-0df5-4607-dd53-2c9f7929bfad"
      },
      "source": [
        "model.predict_proba(X_test[0:10])"
      ],
      "execution_count": null,
      "outputs": [
        {
          "output_type": "execute_result",
          "data": {
            "text/plain": [
              "array([[9.70643948e-01, 2.93560524e-02],\n",
              "       [9.98726515e-01, 1.27348455e-03],\n",
              "       [9.90800330e-01, 9.19966997e-03],\n",
              "       [9.99966486e-01, 3.35138017e-05],\n",
              "       [9.99785479e-01, 2.14521172e-04],\n",
              "       [9.99997160e-01, 2.84025170e-06],\n",
              "       [9.99991217e-01, 8.78323642e-06],\n",
              "       [1.88284022e-14, 1.00000000e+00],\n",
              "       [9.97944470e-01, 2.05552987e-03],\n",
              "       [9.97804623e-01, 2.19537712e-03]])"
            ]
          },
          "metadata": {
            "tags": []
          },
          "execution_count": 1493
        }
      ]
    },
    {
      "cell_type": "markdown",
      "metadata": {
        "id": "27uzLjZSvTeo"
      },
      "source": [
        "## **0.3**"
      ]
    },
    {
      "cell_type": "code",
      "metadata": {
        "colab": {
          "base_uri": "https://localhost:8080/"
        },
        "id": "wv3xnn9nvZ9_",
        "outputId": "d1f8971c-d0ba-4be3-b4e2-4e094265ce62"
      },
      "source": [
        "X_train, X_test, y_train, y_test = train_test_split(inputs,target,test_size=0.3,random_state = 100)\n",
        "model = GaussianNB()\n",
        "model.fit(X_train,y_train)\n",
        "model.score(X_test,y_test)"
      ],
      "execution_count": null,
      "outputs": [
        {
          "output_type": "execute_result",
          "data": {
            "text/plain": [
              "0.8003821742987784"
            ]
          },
          "metadata": {
            "tags": []
          },
          "execution_count": 1494
        }
      ]
    },
    {
      "cell_type": "markdown",
      "metadata": {
        "id": "1iBgqekrvdR8"
      },
      "source": [
        "## **0.4**"
      ]
    },
    {
      "cell_type": "code",
      "metadata": {
        "colab": {
          "base_uri": "https://localhost:8080/"
        },
        "id": "LbRq13TCvc0q",
        "outputId": "342ee8fd-1954-4d8c-dab7-3a04a6036251"
      },
      "source": [
        "X_train, X_test, y_train, y_test = train_test_split(inputs,target,test_size=0.4,random_state = 100)\n",
        "model = GaussianNB()\n",
        "model.fit(X_train,y_train)\n",
        "model.score(X_test,y_test)"
      ],
      "execution_count": null,
      "outputs": [
        {
          "output_type": "execute_result",
          "data": {
            "text/plain": [
              "0.7997645493166812"
            ]
          },
          "metadata": {
            "tags": []
          },
          "execution_count": 1495
        }
      ]
    },
    {
      "cell_type": "markdown",
      "metadata": {
        "id": "cU5Jd3wE1jmh"
      },
      "source": [
        "## **age workclass educational-num occupation capital-gain capital-loss hours-per-week income**"
      ]
    },
    {
      "cell_type": "code",
      "metadata": {
        "colab": {
          "base_uri": "https://localhost:8080/"
        },
        "id": "C3xj-Ld_zIhV",
        "outputId": "a27a8b14-5014-4509-e0b8-4aff29054438"
      },
      "source": [
        "adult1 = inputs[['age','workclass','educational-num','occupation','capital-gain','capital-loss','hours-per-week']]\n",
        "def accuracy(inputs, testing):\n",
        "  X_train, X_test, y_train, y_test = train_test_split(inputs,target,test_size=testing, random_state = 100)\n",
        "  \n",
        "  #Memasukkan isi model ke dalam fit X_train, y_train untuk menentukan pola model datanya\n",
        "  model = GaussianNB()\n",
        "  model.fit(X_train,y_train)\n",
        "  #Memasukkan score kebenaran dengan perbandingan parameter X_text dan y_test\n",
        "  accuracy_score = model.score(X_test,y_test)\n",
        "  return accuracy_score\n",
        "\n",
        "print(\"test size 0.2:\", accuracy(adult1, 0.2))\n",
        "print(\"test size 0.3:\", accuracy(adult1, 0.3))\n",
        "print(\"test size 0.4:\", accuracy(adult1, 0.4))"
      ],
      "execution_count": null,
      "outputs": [
        {
          "output_type": "stream",
          "text": [
            "test size 0.2: 0.8022315487767427\n",
            "test size 0.3: 0.7969699037739713\n",
            "test size 0.4: 0.7954138301683984\n"
          ],
          "name": "stdout"
        }
      ]
    },
    {
      "cell_type": "code",
      "metadata": {
        "colab": {
          "base_uri": "https://localhost:8080/"
        },
        "id": "fWTU3-C1JTZ-",
        "outputId": "ee5bfeb8-51b3-45ef-dbea-bcd48388e44f"
      },
      "source": [
        "adult1 = inputs[['age','workclass','educational-num','race','capital-gain','capital-loss']]\n",
        "def accuracy(inputs, testing):\n",
        "  X_train, X_test, y_train, y_test = train_test_split(inputs,target,test_size=testing, random_state = 100)\n",
        "  \n",
        "  #Memasukkan isi model ke dalam fit X_train, y_train untuk menentukan pola model datanya\n",
        "  model = GaussianNB()\n",
        "  model.fit(X_train,y_train)\n",
        "  #Memasukkan score kebenaran dengan perbandingan parameter X_text dan y_test\n",
        "  accuracy_score = model.score(X_test,y_test)\n",
        "  return accuracy_score\n",
        "\n",
        "print(\"test size 0.2:\", accuracy(adult1, 0.2))\n",
        "print(\"test size 0.3:\", accuracy(adult1, 0.3))\n",
        "print(\"test size 0.4:\", accuracy(adult1, 0.4))"
      ],
      "execution_count": null,
      "outputs": [
        {
          "output_type": "stream",
          "text": [
            "test size 0.2: 0.8010031733033064\n",
            "test size 0.3: 0.7965604313109943\n",
            "test size 0.4: 0.794953165787992\n"
          ],
          "name": "stdout"
        }
      ]
    }
  ]
}